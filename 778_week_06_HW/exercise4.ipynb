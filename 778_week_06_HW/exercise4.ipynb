{
 "cells": [
  {
   "cell_type": "markdown",
   "metadata": {},
   "source": [
    "Uses [NYC's Parks Properties](https://data.cityofnewyork.us/Recreation/Parks-Properties/enfh-gkve) dataset to look up the Council District of a user-selected park within a user-selected borough."
   ]
  },
  {
   "cell_type": "code",
   "execution_count": 14,
   "metadata": {},
   "outputs": [
    {
     "name": "stdout",
     "output_type": "stream",
     "text": [
      "Found the following parks in Brooklyn:\n"
     ]
    },
    {
     "data": {
      "text/html": [
       "<div>\n",
       "<style scoped>\n",
       "    .dataframe tbody tr th:only-of-type {\n",
       "        vertical-align: middle;\n",
       "    }\n",
       "\n",
       "    .dataframe tbody tr th {\n",
       "        vertical-align: top;\n",
       "    }\n",
       "\n",
       "    .dataframe thead th {\n",
       "        text-align: right;\n",
       "    }\n",
       "</style>\n",
       "<table border=\"1\" class=\"dataframe\">\n",
       "  <thead>\n",
       "    <tr style=\"text-align: right;\">\n",
       "      <th></th>\n",
       "      <th>ADDRESS</th>\n",
       "      <th>SIGNNAME</th>\n",
       "    </tr>\n",
       "  </thead>\n",
       "  <tbody>\n",
       "    <tr>\n",
       "      <th>5</th>\n",
       "      <td>126 BRIGHTWATER COURT</td>\n",
       "      <td>Brighton Playground</td>\n",
       "    </tr>\n",
       "    <tr>\n",
       "      <th>9</th>\n",
       "      <td>436 VAN SICLEN AVENUE</td>\n",
       "      <td>Big Red Garden</td>\n",
       "    </tr>\n",
       "    <tr>\n",
       "      <th>10</th>\n",
       "      <td>1424 MYRTLE AVENUE</td>\n",
       "      <td>Heisser Triangle</td>\n",
       "    </tr>\n",
       "    <tr>\n",
       "      <th>11</th>\n",
       "      <td>64 IRVING AVENUE</td>\n",
       "      <td>Maria Hernandez Park</td>\n",
       "    </tr>\n",
       "    <tr>\n",
       "      <th>12</th>\n",
       "      <td>89 HOPKINSON AVENUE</td>\n",
       "      <td>Marion Hopkinson Playground</td>\n",
       "    </tr>\n",
       "    <tr>\n",
       "      <th>...</th>\n",
       "      <td>...</td>\n",
       "      <td>...</td>\n",
       "    </tr>\n",
       "    <tr>\n",
       "      <th>2042</th>\n",
       "      <td>4201 10 AVENUE</td>\n",
       "      <td>Brizzi Playground</td>\n",
       "    </tr>\n",
       "    <tr>\n",
       "      <th>2043</th>\n",
       "      <td>375 JAMAICA AVENUE</td>\n",
       "      <td>Highland Park</td>\n",
       "    </tr>\n",
       "    <tr>\n",
       "      <th>2044</th>\n",
       "      <td>NaN</td>\n",
       "      <td>Concerned Residents of Barbey Street</td>\n",
       "    </tr>\n",
       "    <tr>\n",
       "      <th>2047</th>\n",
       "      <td>7614 FORT HAMILTON PARKWAY</td>\n",
       "      <td>McKinley Park</td>\n",
       "    </tr>\n",
       "    <tr>\n",
       "      <th>2049</th>\n",
       "      <td>NaN</td>\n",
       "      <td>Jerome-Glenmore Cornerstone Community Garden</td>\n",
       "    </tr>\n",
       "  </tbody>\n",
       "</table>\n",
       "<p>623 rows × 2 columns</p>\n",
       "</div>"
      ],
      "text/plain": [
       "                         ADDRESS                                      SIGNNAME\n",
       "5          126 BRIGHTWATER COURT                           Brighton Playground\n",
       "9          436 VAN SICLEN AVENUE                                Big Red Garden\n",
       "10            1424 MYRTLE AVENUE                              Heisser Triangle\n",
       "11              64 IRVING AVENUE                          Maria Hernandez Park\n",
       "12           89 HOPKINSON AVENUE                   Marion Hopkinson Playground\n",
       "...                          ...                                           ...\n",
       "2042              4201 10 AVENUE                             Brizzi Playground\n",
       "2043          375 JAMAICA AVENUE                                 Highland Park\n",
       "2044                         NaN          Concerned Residents of Barbey Street\n",
       "2047  7614 FORT HAMILTON PARKWAY                                 McKinley Park\n",
       "2049                         NaN  Jerome-Glenmore Cornerstone Community Garden\n",
       "\n",
       "[623 rows x 2 columns]"
      ]
     },
     "metadata": {},
     "output_type": "display_data"
    },
    {
     "name": "stdout",
     "output_type": "stream",
     "text": [
      "Run the following cell to continue.\n"
     ]
    }
   ],
   "source": [
    "import pandas as pd\n",
    "import numpy as np\n",
    "import matplotlib.pyplot as plt\n",
    "\n",
    "# Read in the data from the CSV exported from NYC Open Data\n",
    "frame = pd.read_csv(\"parks.csv\")\n",
    "borough = input(\"Pick a borough (B=Brooklyn, M=Manhattan, Q=Queens, R=Staten Island, X=Bronx) to display parks in that borough.\").upper()\n",
    "\n",
    "boroughs = {\n",
    "    'B': 'Brooklyn',\n",
    "    'M': 'Manhattan',\n",
    "    'Q': 'Queens',\n",
    "    'R': 'Staten Island',\n",
    "    'X': 'Bronx'\n",
    "}\n",
    "\n",
    "if borough not in boroughs.keys():\n",
    "    print(\"Could not locate borough \" + borough + \".\")\n",
    "else:\n",
    "    print(\"Found the following parks in \" + boroughs[borough] + \":\")\n",
    "    filtered = frame.loc[frame[\"BOROUGH\"]==borough]\n",
    "    display(filtered[[\"ADDRESS\",\"SIGNNAME\"]])\n",
    "    print(\"Run the following cell to continue.\")"
   ]
  },
  {
   "cell_type": "code",
   "execution_count": null,
   "metadata": {},
   "outputs": [
    {
     "name": "stdout",
     "output_type": "stream",
     "text": [
      "Park number 5 (Brighton Playground) is in council district 48)\n"
     ]
    }
   ],
   "source": [
    "number = int(input(\"Choose a number of a park.\"))\n",
    "\n",
    "if number not in filtered.index.to_list():\n",
    "    print(\"Could not locate park #\" + number + \".\")\n",
    "else:\n",
    "    row = filtered.loc[number]\n",
    "    print(\"Park number \"+str(number)+\" (\"+row[\"SIGNNAME\"]+\") is in council district \"+row[\"COUNCILDISTRICT\"]+\".\")"
   ]
  }
 ],
 "metadata": {
  "kernelspec": {
   "display_name": "Python 3",
   "language": "python",
   "name": "python3"
  },
  "language_info": {
   "codemirror_mode": {
    "name": "ipython",
    "version": 3
   },
   "file_extension": ".py",
   "mimetype": "text/x-python",
   "name": "python",
   "nbconvert_exporter": "python",
   "pygments_lexer": "ipython3",
   "version": "3.11.9"
  }
 },
 "nbformat": 4,
 "nbformat_minor": 2
}
