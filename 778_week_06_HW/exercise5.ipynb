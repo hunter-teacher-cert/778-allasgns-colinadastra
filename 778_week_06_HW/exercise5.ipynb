{
 "cells": [
  {
   "cell_type": "markdown",
   "metadata": {},
   "source": [
    "Uses [NYS's Fire Departments](https://data.ny.gov/Public-Safety/Fire-Department-Directory-for-New-York-State/qfsu-zcpv/about_data) dataset to look up the phone number and Google Maps URL for a user-provided city."
   ]
  },
  {
   "cell_type": "code",
   "execution_count": null,
   "metadata": {},
   "outputs": [
    {
     "name": "stdout",
     "output_type": "stream",
     "text": [
      "Found the following fire departments for White Plains:\n",
      "1. Fairview Fire Department\n",
      "\tPhone: 914-949-2828\n",
      "\tMaps: https://www.google.com/maps/search/?api=1&query=41.044429,-73.792707\n",
      "2. White Plains Fire Dept\n",
      "\tPhone: 914-422-6360\n",
      "\tMaps: https://www.google.com/maps/search/?api=1&query=41.029804,-73.771895\n"
     ]
    }
   ],
   "source": [
    "import json\n",
    "from urllib.request import urlopen\n",
    "from urllib.parse import quote\n",
    "\n",
    "# Don't know why I needed this?\n",
    "# api_key_id = \"45p84x7iaa4vxwharncueqw8z\"\n",
    "# api_key_secret = \"39d52dof05tqdsej86uit4yvtk5azri0zl3mmhwqoff21h1p6\"\n",
    "\n",
    "query = input(\"Choose a city in New York State.\")\n",
    "\n",
    "city = quote(query).upper()\n",
    "\n",
    "api_endpoint = f\"https://data.ny.gov/resource/qfsu-zcpv.json?city={city}\"\n",
    "\n",
    "results = json.load(urlopen(api_endpoint))\n",
    "\n",
    "if len(results) == 0:\n",
    "    print(\"No fire departments found for \" + query + \".\")\n",
    "else:\n",
    "    print(\"Found the following fire departments for \" + query + \":\")\n",
    "    for index, dept in enumerate(results):\n",
    "        print(str(index+1) + \". \" + dept['fire_department_name'].title())\n",
    "        phone = dept['phone_number']\n",
    "        print(\"\\tPhone: \" + phone[0:3] + \"-\" + phone[3:6] + \"-\" + phone[6:])\n",
    "        lat = dept['lat']\n",
    "        long = dept['long']\n",
    "        print(\"\\tMaps: \" + \"https://www.google.com/maps/search/?api=1&query=\" + lat + \",\" + long)\n"
   ]
  }
 ],
 "metadata": {
  "kernelspec": {
   "display_name": "Python 3",
   "language": "python",
   "name": "python3"
  },
  "language_info": {
   "codemirror_mode": {
    "name": "ipython",
    "version": 3
   },
   "file_extension": ".py",
   "mimetype": "text/x-python",
   "name": "python",
   "nbconvert_exporter": "python",
   "pygments_lexer": "ipython3",
   "version": "3.11.9"
  }
 },
 "nbformat": 4,
 "nbformat_minor": 2
}
