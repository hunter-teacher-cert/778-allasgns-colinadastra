{
 "cells": [
  {
   "cell_type": "markdown",
   "id": "ddeaade2-5e03-4622-aa5f-e7e035838ba1",
   "metadata": {},
   "source": [
    "778-w6-nasatest.ipynb: When developing an API program, go slowly.\n",
    "2024 FA -- CSCI 77800 -- Edgar E. Troudt, Ph.D.\n"
   ]
  },
  {
   "cell_type": "code",
   "execution_count": null,
   "id": "04828095-210e-4397-8ba0-f6d71f5a9ccc",
   "metadata": {},
   "outputs": [],
   "source": [
    "from PIL import Image\n",
    "from IPython.display import display\n",
    "import json;\n",
    "import urllib;\n",
    "\n",
    "the_query = \"mars\"\n",
    "web_data = urllib.request.urlopen( url=f\"https://images-api.nasa.gov/search?q={the_query}\" )\n",
    "json_data = web_data.read()\n",
    "json_string = json.loads( json_data )\n",
    "\n",
    "print(\"Setup complete.\")"
   ]
  },
  {
   "cell_type": "code",
   "execution_count": null,
   "id": "9428749d-b575-4c60-ba81-0336bee39bae",
   "metadata": {},
   "outputs": [],
   "source": [
    "print (json_string.keys())"
   ]
  },
  {
   "cell_type": "code",
   "execution_count": null,
   "id": "d2d8ec94-6b55-4d21-b90d-22cc17c4bf91",
   "metadata": {},
   "outputs": [],
   "source": [
    "print (json_string['collection'].keys())"
   ]
  },
  {
   "cell_type": "code",
   "execution_count": null,
   "id": "cf6ea66b-325c-4c22-9681-ad2ee06c725e",
   "metadata": {},
   "outputs": [],
   "source": [
    "# Keep trying to grab the keys.\n",
    "print (json_string['collection']['items'].keys())\n",
    "\n",
    "# if this doesn't work because there are no keys, perhaps it's another type of data structure."
   ]
  },
  {
   "cell_type": "code",
   "execution_count": null,
   "id": "738c10b9-b80f-4d95-9706-2c4bae1d9be6",
   "metadata": {},
   "outputs": [],
   "source": [
    "# The error above implies that it is a list instead.\n",
    "print (json_string['collection']['items'][0])"
   ]
  },
  {
   "cell_type": "code",
   "execution_count": null,
   "id": "e36282eb-1eb5-4108-9832-a10440ea9ea3",
   "metadata": {},
   "outputs": [],
   "source": [
    "# find the appropriate place where the image link is stored.\n",
    "print (json_string['collection']['items'][0]['links'][0]['href'] )"
   ]
  },
  {
   "cell_type": "code",
   "execution_count": null,
   "id": "6b1f3e49-ee28-4126-86d5-f6c18e32a907",
   "metadata": {},
   "outputs": [],
   "source": [
    "# Now that we realized how to grab the URL of one photo, display it.\n",
    "img_data = urllib.request.urlopen( json_string['collection']['items'][0]['links'][0]['href'])\n",
    "img = Image.open( img_data )\n",
    "display(img)"
   ]
  },
  {
   "cell_type": "code",
   "execution_count": null,
   "id": "afbabbec-0c4e-435d-85d1-453d6e4f9ad6",
   "metadata": {},
   "outputs": [],
   "source": []
  }
 ],
 "metadata": {
  "kernelspec": {
   "display_name": "Python 3 (ipykernel)",
   "language": "python",
   "name": "python3"
  },
  "language_info": {
   "codemirror_mode": {
    "name": "ipython",
    "version": 3
   },
   "file_extension": ".py",
   "mimetype": "text/x-python",
   "name": "python",
   "nbconvert_exporter": "python",
   "pygments_lexer": "ipython3",
   "version": "3.10.12"
  }
 },
 "nbformat": 4,
 "nbformat_minor": 5
}
